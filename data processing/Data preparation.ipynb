{
 "cells": [
  {
   "cell_type": "markdown",
   "metadata": {},
   "source": [
    "# Input Data Download And Generation\n",
    "\n",
    "This Jupyter Notebook provides a step-by-step guide on how to generate the necessary input files (`cell_map.csv`, `celltype_map.csv`, `gene_mapping.csv`, etc.) from `.h5ad` files. These generated files are required to run the analyses in the `bm.ipynb`, `cell_development.ipynb`, `grn.ipynb`, and `spatial.ipynb` notebooks.\n",
    "\n",
    "The notebook is divided into four main sections, each dedicated to preparing the specific input data needed for one of the target notebooks. All file paths have been pre-configured based on the provided notebooks.\n",
    "\n",
    "The download address of the .h5ad file used is as follows:\n",
    "* The four **embryonic stem cell (ESC)** datasets for benchmarking can be accessed at <https://zenodo.org/records/6720690#.YrXQjHZBz4Y>.\n",
    "* The **human kidney dataset** can be accessed at <https://cellxgene.cziscience.com/e/dea717d4-7bc0-4e46-950f-fd7e1cc8df7d.cxg/>.\n",
    "* The **human hematopoietic dataset** can be accessed at <https://cellxgene.cziscience.com/e/cd2f23c1-aef1-48ae-8eb4-0bcf124e567d.cxg/>.\n",
    "* The **mouse heart spatial transcriptomics dataset** can be accessed at <https://www.ncbi.nlm.nih.gov/geo/query/acc.cgi?acc=GSE178636>."
   ]
  },
  {
   "cell_type": "markdown",
   "metadata": {},
   "source": [
    "## Initial Setup\n",
    "\n",
    "First, let's import the necessary Python libraries. Make sure you have `anndata` and `pandas` installed in your environment.\n",
    "\n",
    "```bash\n",
    "pip install anndata pandas\n",
    "```"
   ]
  },
  {
   "cell_type": "code",
   "execution_count": 2,
   "metadata": {
    "ExecuteTime": {
     "end_time": "2025-09-11T07:52:06.448000500Z",
     "start_time": "2025-09-11T07:52:01.241034800Z"
    }
   },
   "outputs": [
    {
     "name": "stdout",
     "output_type": "stream",
     "text": [
      "Libraries imported successfully.\n"
     ]
    }
   ],
   "source": [
    "import anndata as ad\n",
    "import pandas as pd\n",
    "import os\n",
    "\n",
    "print(\"Libraries imported successfully.\")"
   ]
  },
  {
   "cell_type": "markdown",
   "metadata": {},
   "source": [
    "## Task 1: Generate Input for bm.ipynb\n",
    "\n",
    "This task requires a gene mapping file (`gene_mapping.csv`). We will generate it from the corresponding `.h5ad` file."
   ]
  },
  {
   "cell_type": "code",
   "execution_count": null,
   "metadata": {
    "ExecuteTime": {
     "end_time": "2025-09-11T07:52:34.505116500Z",
     "start_time": "2025-09-11T07:52:34.263318400Z"
    }
   },
   "outputs": [
    {
     "name": "stdout",
     "output_type": "stream",
     "text": [
      "Processing for bm.ipynb...\n",
      "✅ Successfully generated 'gene_mapping.csv'.\n",
      "\n",
      "File Preview:\n"
     ]
    },
    {
     "data": {
      "text/html": [
       "<div>\n",
       "<style scoped>\n",
       "    .dataframe tbody tr th:only-of-type {\n",
       "        vertical-align: middle;\n",
       "    }\n",
       "\n",
       "    .dataframe tbody tr th {\n",
       "        vertical-align: top;\n",
       "    }\n",
       "\n",
       "    .dataframe thead th {\n",
       "        text-align: right;\n",
       "    }\n",
       "</style>\n",
       "<table border=\"1\" class=\"dataframe\">\n",
       "  <thead>\n",
       "    <tr style=\"text-align: right;\">\n",
       "      <th></th>\n",
       "      <th>ID</th>\n",
       "      <th>Gene</th>\n",
       "    </tr>\n",
       "  </thead>\n",
       "  <tbody>\n",
       "    <tr>\n",
       "      <th>0</th>\n",
       "      <td>0</td>\n",
       "      <td>0610005C13Rik</td>\n",
       "    </tr>\n",
       "    <tr>\n",
       "      <th>1</th>\n",
       "      <td>1</td>\n",
       "      <td>0610007N19Rik</td>\n",
       "    </tr>\n",
       "    <tr>\n",
       "      <th>2</th>\n",
       "      <td>2</td>\n",
       "      <td>0610007P14Rik</td>\n",
       "    </tr>\n",
       "    <tr>\n",
       "      <th>3</th>\n",
       "      <td>3</td>\n",
       "      <td>0610008F07Rik</td>\n",
       "    </tr>\n",
       "    <tr>\n",
       "      <th>4</th>\n",
       "      <td>4</td>\n",
       "      <td>0610009B14Rik</td>\n",
       "    </tr>\n",
       "  </tbody>\n",
       "</table>\n",
       "</div>"
      ],
      "text/plain": [
       "   ID           Gene\n",
       "0   0  0610005C13Rik\n",
       "1   1  0610007N19Rik\n",
       "2   2  0610007P14Rik\n",
       "3   3  0610008F07Rik\n",
       "4   4  0610009B14Rik"
      ]
     },
     "metadata": {},
     "output_type": "display_data"
    }
   ],
   "source": [
    "# --- Configuration for bm.ipynb ---\n",
    "# Path to the .h5ad file for the BM task, extracted from the notebook.\n",
    "bm_h5ad_path = f\"./BM/data/mESC1/mESC1.h5ad\"\n",
    "# Directory where the output files will be saved.\n",
    "bm_output_dir = './BM/data/mESC1/'\n",
    "\n",
    "# --- Data Generation ---\n",
    "print(f\"Processing for bm.ipynb...\")\n",
    "os.makedirs(bm_output_dir, exist_ok=True)\n",
    "\n",
    "try:\n",
    "    # Load the AnnData object\n",
    "    bm_adata = ad.read_h5ad(bm_h5ad_path)\n",
    "    \n",
    "    # Create the gene mapping DataFrame\n",
    "    bm_gene_mapping_df = pd.DataFrame({\n",
    "        'ID': range(len(bm_adata.var.index)),\n",
    "        'Gene': bm_adata.var.index\n",
    "    })\n",
    "\n",
    "    # Save to CSV\n",
    "    bm_gene_mapping_csv_path = os.path.join(bm_output_dir, 'gene_mapping.csv')\n",
    "    bm_gene_mapping_df.to_csv(bm_gene_mapping_csv_path, index=False)\n",
    "\n",
    "    print(f\"✅ Successfully generated 'gene_mapping.csv'.\")\n",
    "    print(\"\\nFile Preview:\")\n",
    "    display(bm_gene_mapping_df.head())\n",
    "\n",
    "except FileNotFoundError:\n",
    "    print(f\"❌ ERROR: The file was not found. Please ensure the path is correct relative to this notebook's location.\")"
   ]
  },
  {
   "cell_type": "markdown",
   "metadata": {},
   "source": [
    "## Task 2: Generate Input for cell_development.ipynb\n",
    "\n",
    "This task requires a cell map (`cell_map.csv`) and a cell type map (`celltype_map.csv`). The cell type column has been identified as `'cell_type'` from the notebook."
   ]
  },
  {
   "cell_type": "code",
   "execution_count": 5,
   "metadata": {
    "ExecuteTime": {
     "end_time": "2025-09-11T08:00:13.506183600Z",
     "start_time": "2025-09-11T08:00:11.014471700Z"
    }
   },
   "outputs": [
    {
     "name": "stdout",
     "output_type": "stream",
     "text": [
      "\n",
      "Processing for cell_development.ipynb...\n",
      "✅ Successfully generated 'cell_map.csv'.\n",
      "\n",
      "File Preview ('cell_map.csv'):\n"
     ]
    },
    {
     "data": {
      "text/html": [
       "<div>\n",
       "<style scoped>\n",
       "    .dataframe tbody tr th:only-of-type {\n",
       "        vertical-align: middle;\n",
       "    }\n",
       "\n",
       "    .dataframe tbody tr th {\n",
       "        vertical-align: top;\n",
       "    }\n",
       "\n",
       "    .dataframe thead th {\n",
       "        text-align: right;\n",
       "    }\n",
       "</style>\n",
       "<table border=\"1\" class=\"dataframe\">\n",
       "  <thead>\n",
       "    <tr style=\"text-align: right;\">\n",
       "      <th></th>\n",
       "      <th>cellName</th>\n",
       "      <th>cellId</th>\n",
       "    </tr>\n",
       "  </thead>\n",
       "  <tbody>\n",
       "    <tr>\n",
       "      <th>0</th>\n",
       "      <td>MantonBM6_HiSeq_5-CTGAAACAGACTAAGT-1</td>\n",
       "      <td>0</td>\n",
       "    </tr>\n",
       "    <tr>\n",
       "      <th>1</th>\n",
       "      <td>MantonBM4_HiSeq_6-TAGAGCTTCACAGTAC-1</td>\n",
       "      <td>1</td>\n",
       "    </tr>\n",
       "    <tr>\n",
       "      <th>2</th>\n",
       "      <td>MantonBM3_HiSeq_6-TGACTAGTCGATGAGG-1</td>\n",
       "      <td>2</td>\n",
       "    </tr>\n",
       "    <tr>\n",
       "      <th>3</th>\n",
       "      <td>MantonBM7_HiSeq_4-TCAATCTGTCTCTTAT-1</td>\n",
       "      <td>3</td>\n",
       "    </tr>\n",
       "    <tr>\n",
       "      <th>4</th>\n",
       "      <td>MantonBM3_HiSeq_5-GCGCAGTCATTCCTCG-1</td>\n",
       "      <td>4</td>\n",
       "    </tr>\n",
       "  </tbody>\n",
       "</table>\n",
       "</div>"
      ],
      "text/plain": [
       "                               cellName  cellId\n",
       "0  MantonBM6_HiSeq_5-CTGAAACAGACTAAGT-1       0\n",
       "1  MantonBM4_HiSeq_6-TAGAGCTTCACAGTAC-1       1\n",
       "2  MantonBM3_HiSeq_6-TGACTAGTCGATGAGG-1       2\n",
       "3  MantonBM7_HiSeq_4-TCAATCTGTCTCTTAT-1       3\n",
       "4  MantonBM3_HiSeq_5-GCGCAGTCATTCCTCG-1       4"
      ]
     },
     "metadata": {},
     "output_type": "display_data"
    },
    {
     "name": "stdout",
     "output_type": "stream",
     "text": [
      "\n",
      "✅ Successfully generated 'celltype_map.csv'.\n",
      "\n",
      "File Preview ('celltype_map.csv'):\n"
     ]
    },
    {
     "data": {
      "text/html": [
       "<div>\n",
       "<style scoped>\n",
       "    .dataframe tbody tr th:only-of-type {\n",
       "        vertical-align: middle;\n",
       "    }\n",
       "\n",
       "    .dataframe tbody tr th {\n",
       "        vertical-align: top;\n",
       "    }\n",
       "\n",
       "    .dataframe thead th {\n",
       "        text-align: right;\n",
       "    }\n",
       "</style>\n",
       "<table border=\"1\" class=\"dataframe\">\n",
       "  <thead>\n",
       "    <tr style=\"text-align: right;\">\n",
       "      <th></th>\n",
       "      <th>celltype</th>\n",
       "      <th>celltypeId</th>\n",
       "    </tr>\n",
       "  </thead>\n",
       "  <tbody>\n",
       "    <tr>\n",
       "      <th>0</th>\n",
       "      <td>hematopoietic multipotent progenitor cell</td>\n",
       "      <td>0</td>\n",
       "    </tr>\n",
       "    <tr>\n",
       "      <th>1</th>\n",
       "      <td>basophilic erythroblast</td>\n",
       "      <td>1</td>\n",
       "    </tr>\n",
       "    <tr>\n",
       "      <th>2</th>\n",
       "      <td>common myeloid progenitor</td>\n",
       "      <td>2</td>\n",
       "    </tr>\n",
       "    <tr>\n",
       "      <th>3</th>\n",
       "      <td>megakaryocyte progenitor cell</td>\n",
       "      <td>3</td>\n",
       "    </tr>\n",
       "    <tr>\n",
       "      <th>4</th>\n",
       "      <td>granulocyte monocyte progenitor cell</td>\n",
       "      <td>4</td>\n",
       "    </tr>\n",
       "  </tbody>\n",
       "</table>\n",
       "</div>"
      ],
      "text/plain": [
       "                                    celltype  celltypeId\n",
       "0  hematopoietic multipotent progenitor cell           0\n",
       "1                    basophilic erythroblast           1\n",
       "2                  common myeloid progenitor           2\n",
       "3              megakaryocyte progenitor cell           3\n",
       "4       granulocyte monocyte progenitor cell           4"
      ]
     },
     "metadata": {},
     "output_type": "display_data"
    }
   ],
   "source": [
    "# --- Configuration for cell_development.ipynb ---\n",
    "# Path to the .h5ad file for the cell development task.\n",
    "cell_dev_h5ad_path = './Cell_Development/data/human_bone/HumanBone.h5ad'\n",
    "# Column name in adata.obs that contains cell type labels.\n",
    "cell_dev_cell_type_column = 'cell_type' \n",
    "# Output directory.\n",
    "cell_dev_output_dir = './Cell_Development/data/human_bone/'\n",
    "\n",
    "# --- Data Generation ---\n",
    "print(f\"\\nProcessing for cell_development.ipynb...\")\n",
    "os.makedirs(cell_dev_output_dir, exist_ok=True)\n",
    "\n",
    "try:\n",
    "    # Load the AnnData object\n",
    "    cell_dev_adata = ad.read_h5ad(cell_dev_h5ad_path)\n",
    "    \n",
    "    # 1. Generate cell_map.csv\n",
    "    cell_map_df = pd.DataFrame({\n",
    "        'cellName': cell_dev_adata.obs.index,\n",
    "        'cellId': range(len(cell_dev_adata.obs))\n",
    "    })\n",
    "    cell_map_csv_path = os.path.join(cell_dev_output_dir, 'cell_map.csv')\n",
    "    cell_map_df.to_csv(cell_map_csv_path, index=False)\n",
    "    print(f\"✅ Successfully generated 'cell_map.csv'.\")\n",
    "    print(\"\\nFile Preview ('cell_map.csv'):\")\n",
    "    display(cell_map_df.head())\n",
    "\n",
    "    # 2. Generate celltype_map.csv\n",
    "    if cell_dev_cell_type_column in cell_dev_adata.obs.columns:\n",
    "        unique_cell_types = cell_dev_adata.obs[cell_dev_cell_type_column].unique().tolist()\n",
    "        celltype_map_df = pd.DataFrame({\n",
    "            'celltype': unique_cell_types,\n",
    "            'celltypeId': range(len(unique_cell_types))\n",
    "        })\n",
    "        celltype_map_csv_path = os.path.join(cell_dev_output_dir, 'celltype_map.csv')\n",
    "        celltype_map_df.to_csv(celltype_map_csv_path, index=False)\n",
    "        print(f\"\\n✅ Successfully generated 'celltype_map.csv'.\")\n",
    "        print(\"\\nFile Preview ('celltype_map.csv'):\")\n",
    "        display(celltype_map_df.head())\n",
    "    else:\n",
    "        print(f\"\\n❌ ERROR: Column '{cell_dev_cell_type_column}' not found in the AnnData object. Please check the .h5ad file.\")\n",
    "\n",
    "except FileNotFoundError:\n",
    "    print(f\"❌ ERROR: The file was not found. Please ensure the path is correct relative to this notebook's location.\")"
   ]
  },
  {
   "cell_type": "markdown",
   "metadata": {},
   "source": [
    "## Task 3: Generate Input for grn.ipynb\n",
    "\n",
    "This task requires a gene mapping file named `gene_mapping_final.csv`."
   ]
  },
  {
   "cell_type": "code",
   "execution_count": null,
   "metadata": {
    "ExecuteTime": {
     "end_time": "2025-09-11T08:23:30.125424200Z",
     "start_time": "2025-09-11T08:23:29.055333900Z"
    }
   },
   "outputs": [
    {
     "name": "stdout",
     "output_type": "stream",
     "text": [
      "\n",
      "Processing for grn.ipynb...\n",
      "✅ Successfully generated 'gene_mapping_final.csv'.\n",
      "\n",
      "File Preview:\n"
     ]
    },
    {
     "data": {
      "text/html": [
       "<div>\n",
       "<style scoped>\n",
       "    .dataframe tbody tr th:only-of-type {\n",
       "        vertical-align: middle;\n",
       "    }\n",
       "\n",
       "    .dataframe tbody tr th {\n",
       "        vertical-align: top;\n",
       "    }\n",
       "\n",
       "    .dataframe thead th {\n",
       "        text-align: right;\n",
       "    }\n",
       "</style>\n",
       "<table border=\"1\" class=\"dataframe\">\n",
       "  <thead>\n",
       "    <tr style=\"text-align: right;\">\n",
       "      <th></th>\n",
       "      <th>ID</th>\n",
       "      <th>Gene</th>\n",
       "    </tr>\n",
       "  </thead>\n",
       "  <tbody>\n",
       "    <tr>\n",
       "      <th>0</th>\n",
       "      <td>0</td>\n",
       "      <td>MIR1302-2HG</td>\n",
       "    </tr>\n",
       "    <tr>\n",
       "      <th>1</th>\n",
       "      <td>1</td>\n",
       "      <td>OR4F5</td>\n",
       "    </tr>\n",
       "    <tr>\n",
       "      <th>2</th>\n",
       "      <td>2</td>\n",
       "      <td>LINC01409</td>\n",
       "    </tr>\n",
       "    <tr>\n",
       "      <th>3</th>\n",
       "      <td>3</td>\n",
       "      <td>FAM87B</td>\n",
       "    </tr>\n",
       "    <tr>\n",
       "      <th>4</th>\n",
       "      <td>4</td>\n",
       "      <td>LINC01128</td>\n",
       "    </tr>\n",
       "  </tbody>\n",
       "</table>\n",
       "</div>"
      ],
      "text/plain": [
       "   ID         Gene\n",
       "0   0  MIR1302-2HG\n",
       "1   1        OR4F5\n",
       "2   2    LINC01409\n",
       "3   3       FAM87B\n",
       "4   4    LINC01128"
      ]
     },
     "metadata": {},
     "output_type": "display_data"
    }
   ],
   "source": [
    "# --- Configuration for grn.ipynb ---\n",
    "# Path to the .h5ad file for the GRN task.\n",
    "grn_h5ad_path = \"./GRN/data/kidney/kidney1_final_annotated.h5ad\"\n",
    "# Output directory.\n",
    "grn_output_dir = \"./GRN/data/kidney/\"\n",
    "\n",
    "# --- Data Generation ---\n",
    "print(f\"\\nProcessing for grn.ipynb...\")\n",
    "os.makedirs(grn_output_dir, exist_ok=True)\n",
    "\n",
    "try:\n",
    "    # Load the AnnData object\n",
    "    grn_adata = ad.read_h5ad(grn_h5ad_path)\n",
    "    \n",
    "    # Create the gene mapping DataFrame\n",
    "    grn_gene_mapping_df = pd.DataFrame({\n",
    "        'ID': range(len(grn_adata.var.index)),\n",
    "        'Gene': grn_adata.var.index\n",
    "    })\n",
    "\n",
    "    # Save to CSV\n",
    "    grn_gene_mapping_csv_path = os.path.join(grn_output_dir, 'gene_mapping_final.csv')\n",
    "    grn_gene_mapping_df.to_csv(grn_gene_mapping_csv_path, index=False)\n",
    "\n",
    "    print(f\"✅ Successfully generated 'gene_mapping_final.csv'.\")\n",
    "    print(\"\\nFile Preview:\")\n",
    "    display(grn_gene_mapping_df.head())\n",
    "\n",
    "except FileNotFoundError:\n",
    "    print(f\"❌ ERROR: The file was not found. Please ensure the path is correct relative to this notebook's location.\")"
   ]
  },
  {
   "cell_type": "markdown",
   "metadata": {},
   "source": [
    "## Task 4: Generate Input for spatial.ipynb\n",
    "\n",
    "This task requires `cell_map_spatial.csv` and `celltype_map_spatial.csv`. The cell type column has been identified as `'cell_type'` from the notebook."
   ]
  },
  {
   "cell_type": "code",
   "execution_count": null,
   "metadata": {
    "ExecuteTime": {
     "end_time": "2025-09-11T08:37:02.021604Z",
     "start_time": "2025-09-11T08:37:01.386067300Z"
    }
   },
   "outputs": [
    {
     "name": "stdout",
     "output_type": "stream",
     "text": [
      "\n",
      "Processing for spatial.ipynb...\n",
      "✅ Successfully generated 'cell_map_spatial.csv'.\n",
      "\n",
      "File Preview ('cell_map_spatial.csv'):\n"
     ]
    },
    {
     "data": {
      "text/html": [
       "<div>\n",
       "<style scoped>\n",
       "    .dataframe tbody tr th:only-of-type {\n",
       "        vertical-align: middle;\n",
       "    }\n",
       "\n",
       "    .dataframe tbody tr th {\n",
       "        vertical-align: top;\n",
       "    }\n",
       "\n",
       "    .dataframe thead th {\n",
       "        text-align: right;\n",
       "    }\n",
       "</style>\n",
       "<table border=\"1\" class=\"dataframe\">\n",
       "  <thead>\n",
       "    <tr style=\"text-align: right;\">\n",
       "      <th></th>\n",
       "      <th>cellName</th>\n",
       "      <th>cellId</th>\n",
       "    </tr>\n",
       "  </thead>\n",
       "  <tbody>\n",
       "    <tr>\n",
       "      <th>0</th>\n",
       "      <td>e20-1.rds:BIN.13557_1</td>\n",
       "      <td>0</td>\n",
       "    </tr>\n",
       "    <tr>\n",
       "      <th>1</th>\n",
       "      <td>e20-1.rds:BIN.10045_1</td>\n",
       "      <td>1</td>\n",
       "    </tr>\n",
       "    <tr>\n",
       "      <th>2</th>\n",
       "      <td>e20-1.rds:BIN.7464_1</td>\n",
       "      <td>2</td>\n",
       "    </tr>\n",
       "    <tr>\n",
       "      <th>3</th>\n",
       "      <td>e20-1.rds:BIN.8814_1</td>\n",
       "      <td>3</td>\n",
       "    </tr>\n",
       "    <tr>\n",
       "      <th>4</th>\n",
       "      <td>e20-1.rds:BIN.14607_1</td>\n",
       "      <td>4</td>\n",
       "    </tr>\n",
       "  </tbody>\n",
       "</table>\n",
       "</div>"
      ],
      "text/plain": [
       "                cellName  cellId\n",
       "0  e20-1.rds:BIN.13557_1       0\n",
       "1  e20-1.rds:BIN.10045_1       1\n",
       "2   e20-1.rds:BIN.7464_1       2\n",
       "3   e20-1.rds:BIN.8814_1       3\n",
       "4  e20-1.rds:BIN.14607_1       4"
      ]
     },
     "metadata": {},
     "output_type": "display_data"
    },
    {
     "name": "stdout",
     "output_type": "stream",
     "text": [
      "\n",
      "✅ Successfully generated 'celltype_map_spatial.csv'.\n",
      "\n",
      "File Preview ('celltype_map_spatial.csv'):\n"
     ]
    },
    {
     "data": {
      "text/html": [
       "<div>\n",
       "<style scoped>\n",
       "    .dataframe tbody tr th:only-of-type {\n",
       "        vertical-align: middle;\n",
       "    }\n",
       "\n",
       "    .dataframe tbody tr th {\n",
       "        vertical-align: top;\n",
       "    }\n",
       "\n",
       "    .dataframe thead th {\n",
       "        text-align: right;\n",
       "    }\n",
       "</style>\n",
       "<table border=\"1\" class=\"dataframe\">\n",
       "  <thead>\n",
       "    <tr style=\"text-align: right;\">\n",
       "      <th></th>\n",
       "      <th>celltype</th>\n",
       "      <th>celltypeId</th>\n",
       "    </tr>\n",
       "  </thead>\n",
       "  <tbody>\n",
       "    <tr>\n",
       "      <th>0</th>\n",
       "      <td>4</td>\n",
       "      <td>0</td>\n",
       "    </tr>\n",
       "    <tr>\n",
       "      <th>1</th>\n",
       "      <td>1</td>\n",
       "      <td>1</td>\n",
       "    </tr>\n",
       "    <tr>\n",
       "      <th>2</th>\n",
       "      <td>0</td>\n",
       "      <td>2</td>\n",
       "    </tr>\n",
       "  </tbody>\n",
       "</table>\n",
       "</div>"
      ],
      "text/plain": [
       "   celltype  celltypeId\n",
       "0         4           0\n",
       "1         1           1\n",
       "2         0           2"
      ]
     },
     "metadata": {},
     "output_type": "display_data"
    }
   ],
   "source": [
    "# --- Configuration for spatial.ipynb ---\n",
    "# Path to the .h5ad file for the spatial task.\n",
    "spatial_h5ad_path = './Spatial/data/spatiotemporal_mouse/mouse_spatial.h5ad'\n",
    "# Column name in adata.obs that contains cell type labels.\n",
    "spatial_cell_type_column = 'cell_annotion'\n",
    "# Output directory.\n",
    "spatial_output_dir = './Spatial/data/spatiotemporal_mouse/'\n",
    "\n",
    "# --- Data Generation ---\n",
    "print(f\"\\nProcessing for spatial.ipynb...\")\n",
    "os.makedirs(spatial_output_dir, exist_ok=True)\n",
    "\n",
    "try:\n",
    "    # Load the AnnData object\n",
    "    spatial_adata = ad.read_h5ad(spatial_h5ad_path)\n",
    "    \n",
    "    # 1. Generate cell_map_spatial.csv\n",
    "    cell_map_spatial_df = pd.DataFrame({\n",
    "        'cellName': spatial_adata.obs.index,\n",
    "        'cellId': range(len(spatial_adata.obs))\n",
    "    })\n",
    "    cell_map_spatial_csv_path = os.path.join(spatial_output_dir, 'cell_map_spatial.csv')\n",
    "    cell_map_spatial_df.to_csv(cell_map_spatial_csv_path, index=False)\n",
    "    print(f\"✅ Successfully generated 'cell_map_spatial.csv'.\")\n",
    "    print(\"\\nFile Preview ('cell_map_spatial.csv'):\")\n",
    "    display(cell_map_spatial_df.head())\n",
    "\n",
    "    # 2. Generate celltype_map_spatial.csv\n",
    "    if spatial_cell_type_column in spatial_adata.obs.columns:\n",
    "        unique_cell_types_spatial = spatial_adata.obs[spatial_cell_type_column].unique().tolist()\n",
    "        celltype_map_spatial_df = pd.DataFrame({\n",
    "            'celltype': unique_cell_types_spatial,\n",
    "            'celltypeId': range(len(unique_cell_types_spatial))\n",
    "        })\n",
    "        celltype_map_spatial_csv_path = os.path.join(spatial_output_dir, 'celltype_map_spatial.csv')\n",
    "        celltype_map_spatial_df.to_csv(celltype_map_spatial_csv_path, index=False)\n",
    "        print(f\"\\n✅ Successfully generated 'celltype_map_spatial.csv'.\")\n",
    "        print(\"\\nFile Preview ('celltype_map_spatial.csv'):\")\n",
    "        display(celltype_map_spatial_df.head())\n",
    "    else:\n",
    "        print(f\"\\n❌ ERROR: Column '{spatial_cell_type_column}' not found in the AnnData object. Please check the .h5ad file.\")\n",
    "\n",
    "except FileNotFoundError:\n",
    "    print(f\"❌ ERROR: The file was not found. Please ensure the path is correct relative to this notebook's location.\")"
   ]
  },
  {
   "cell_type": "code",
   "execution_count": null,
   "metadata": {
    "collapsed": false
   },
   "outputs": [],
   "source": []
  }
 ],
 "metadata": {
  "kernelspec": {
   "display_name": "Python 3",
   "language": "python",
   "name": "python3"
  },
  "language_info": {
   "codemirror_mode": {
    "name": "ipython",
    "version": 3
   },
   "file_extension": ".py",
   "mimetype": "text/x-python",
   "name": "python",
   "nbconvert_exporter": "python",
   "pygments_lexer": "ipython3",
   "version": "3.8.10"
  }
 },
 "nbformat": 4,
 "nbformat_minor": 4
}
